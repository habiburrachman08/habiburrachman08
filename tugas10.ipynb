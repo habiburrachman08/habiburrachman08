{
  "nbformat": 4,
  "nbformat_minor": 0,
  "metadata": {
    "colab": {
      "name": "tugas10.ipynb",
      "provenance": [],
      "mount_file_id": "13XQ50tnmvc7ABs9xgHSsvqDNIQ0ClNK6",
      "authorship_tag": "ABX9TyPdtQo+eNX04OP+DaDAspyP",
      "include_colab_link": true
    },
    "kernelspec": {
      "name": "python3",
      "display_name": "Python 3"
    }
  },
  "cells": [
    {
      "cell_type": "markdown",
      "metadata": {
        "id": "view-in-github",
        "colab_type": "text"
      },
      "source": [
        "<a href=\"https://colab.research.google.com/github/habiburrachman08/habiburrachman08/blob/main/tugas10.ipynb\" target=\"_parent\"><img src=\"https://colab.research.google.com/assets/colab-badge.svg\" alt=\"Open In Colab\"/></a>"
      ]
    },
    {
      "cell_type": "code",
      "metadata": {
        "colab": {
          "base_uri": "https://localhost:8080/"
        },
        "id": "sMJHKCEwdT9g",
        "outputId": "7c02c2f0-3490-4b72-8f1c-b25c0f62ad7d"
      },
      "source": [
        "cd /content/drive/MyDrive/Colab Notebooks"
      ],
      "execution_count": 28,
      "outputs": [
        {
          "output_type": "stream",
          "text": [
            "/content/drive/MyDrive/Colab Notebooks\n"
          ],
          "name": "stdout"
        }
      ]
    },
    {
      "cell_type": "code",
      "metadata": {
        "colab": {
          "base_uri": "https://localhost:8080/"
        },
        "id": "CkzFC8hKdZJC",
        "outputId": "8b5012c5-fce4-472f-95c1-946e4d6b5131"
      },
      "source": [
        "ls"
      ],
      "execution_count": 29,
      "outputs": [
        {
          "output_type": "stream",
          "text": [
            "\u001b[0m\u001b[01;34mTUGASTEN\u001b[0m/  Untitled0.ipynb\n"
          ],
          "name": "stdout"
        }
      ]
    },
    {
      "cell_type": "code",
      "metadata": {
        "id": "TKiItT-Mdagq"
      },
      "source": [
        "# import the necessary packages\n",
        "from keras.models import Sequential\n",
        "from keras.layers.convolutional import Conv2D\n",
        "from keras.layers.convolutional import MaxPooling2D\n",
        "from keras.layers.core import Activation\n",
        "from keras.layers.core import Flatten\n",
        "from keras.layers.core import Dense\n",
        "from keras.optimizers import Adam\n",
        "from sklearn.preprocessing import LabelBinarizer\n",
        "from sklearn.model_selection import train_test_split\n",
        "from sklearn.metrics import classification_report\n",
        "from PIL import Image\n",
        "from imutils import paths\n",
        "import numpy as np\n",
        "import os"
      ],
      "execution_count": 30,
      "outputs": []
    },
    {
      "cell_type": "code",
      "metadata": {
        "colab": {
          "base_uri": "https://localhost:8080/"
        },
        "id": "fUgdgFVxdeDy",
        "outputId": "93286fbc-6307-4a9c-cbb2-efb92ef57adb"
      },
      "source": [
        "# grab all image paths in the input dataset directory, then initialize\n",
        "# our list of images and corresponding class labels\n",
        "print(\"[INFO] loading images...\")\n",
        "imagePaths = paths.list_images(\"TUGASTEN\")\n",
        "data = []\n",
        "labels = []"
      ],
      "execution_count": 31,
      "outputs": [
        {
          "output_type": "stream",
          "text": [
            "[INFO] loading images...\n"
          ],
          "name": "stdout"
        }
      ]
    },
    {
      "cell_type": "code",
      "metadata": {
        "id": "jFTlZWpedj9b"
      },
      "source": [
        "# loop over our input images\n",
        "for imagePath in imagePaths:\n",
        "\t# load the input image from disk, resize it to 32x32 pixels, scale\n",
        "\t# the pixel intensities to the range [0, 1], and then update our\n",
        "\t# images list\n",
        "  image = Image.open(imagePath)\n",
        "  image = np.array(image.resize((32, 32))) / 255.0\n",
        "  data.append(image)\n",
        "\n",
        "\t# extract the class label from the file path and update the\n",
        "\t# labels list\n",
        "  label = imagePath.split(os.path.sep)[-2]\n",
        "  labels.append(label)"
      ],
      "execution_count": 32,
      "outputs": []
    },
    {
      "cell_type": "code",
      "metadata": {
        "colab": {
          "base_uri": "https://localhost:8080/"
        },
        "id": "XHYEda-DdmNj",
        "outputId": "adfe2722-5e32-4a2c-aed9-0341f66ef8ce"
      },
      "source": [
        "print(labels)"
      ],
      "execution_count": 34,
      "outputs": [
        {
          "output_type": "stream",
          "text": [
            "['coast', 'coast', 'coast', 'coast', 'coast', 'coast', 'coast', 'coast', 'coast', 'coast', 'coast', 'coast', 'coast', 'coast', 'coast', 'coast', 'coast', 'coast', 'coast', 'coast', 'coast', 'coast', 'coast', 'coast', 'coast', 'coast', 'coast', 'coast', 'coast', 'coast', 'coast', 'coast', 'coast', 'coast', 'coast', 'coast', 'coast', 'coast', 'coast', 'coast', 'coast', 'coast', 'coast', 'coast', 'coast', 'coast', 'coast', 'coast', 'coast', 'coast', 'coast', 'coast', 'coast', 'coast', 'coast', 'coast', 'coast', 'coast', 'coast', 'coast', 'coast', 'coast', 'coast', 'coast', 'coast', 'coast', 'coast', 'coast', 'coast', 'coast', 'coast', 'coast', 'coast', 'coast', 'coast', 'coast', 'coast', 'coast', 'coast', 'coast', 'coast', 'coast', 'coast', 'coast', 'coast', 'coast', 'coast', 'coast', 'coast', 'coast', 'coast', 'coast', 'coast', 'coast', 'coast', 'coast', 'coast', 'coast', 'coast', 'coast', 'coast', 'coast', 'coast', 'coast', 'coast', 'coast', 'coast', 'coast', 'coast', 'coast', 'coast', 'coast', 'coast', 'coast', 'coast', 'coast', 'coast', 'coast', 'coast', 'coast', 'coast', 'coast', 'coast', 'coast', 'coast', 'coast', 'coast', 'coast', 'coast', 'coast', 'coast', 'coast', 'coast', 'coast', 'coast', 'coast', 'coast', 'coast', 'coast', 'coast', 'coast', 'coast', 'coast', 'coast', 'coast', 'coast', 'coast', 'coast', 'coast', 'coast', 'coast', 'coast', 'coast', 'coast', 'coast', 'coast', 'coast', 'coast', 'coast', 'coast', 'coast', 'coast', 'coast', 'coast', 'coast', 'coast', 'coast', 'coast', 'coast', 'coast', 'coast', 'coast', 'coast', 'coast', 'coast', 'coast', 'coast', 'coast', 'coast', 'coast', 'coast', 'coast', 'coast', 'coast', 'coast', 'coast', 'coast', 'coast', 'coast', 'coast', 'coast', 'coast', 'coast', 'coast', 'coast', 'coast', 'coast', 'coast', 'coast', 'coast', 'coast', 'coast', 'coast', 'coast', 'coast', 'coast', 'coast', 'coast', 'coast', 'coast', 'coast', 'coast', 'coast', 'coast', 'coast', 'coast', 'coast', 'coast', 'coast', 'coast', 'coast', 'coast', 'coast', 'coast', 'coast', 'coast', 'coast', 'coast', 'coast', 'coast', 'coast', 'coast', 'coast', 'coast', 'coast', 'coast', 'coast', 'coast', 'coast', 'coast', 'coast', 'coast', 'coast', 'coast', 'coast', 'coast', 'coast', 'coast', 'coast', 'coast', 'coast', 'coast', 'coast', 'coast', 'coast', 'coast', 'coast', 'coast', 'coast', 'coast', 'coast', 'coast', 'coast', 'coast', 'coast', 'coast', 'coast', 'coast', 'coast', 'coast', 'coast', 'coast', 'coast', 'coast', 'coast', 'coast', 'coast', 'coast', 'coast', 'coast', 'coast', 'coast', 'coast', 'coast', 'coast', 'coast', 'coast', 'coast', 'coast', 'coast', 'coast', 'coast', 'coast', 'coast', 'coast', 'coast', 'coast', 'coast', 'coast', 'coast', 'coast', 'coast', 'coast', 'coast', 'coast', 'coast', 'coast', 'coast', 'coast', 'coast', 'coast', 'coast', 'coast', 'coast', 'coast', 'coast', 'coast', 'coast', 'coast', 'coast', 'coast', 'coast', 'coast', 'coast', 'coast', 'coast', 'coast', 'coast', 'coast', 'coast', 'coast', 'coast', 'coast', 'coast', 'coast', 'coast', 'coast', 'coast', 'coast', 'coast', 'coast', 'coast', 'coast', 'coast', 'coast', 'coast', 'coast', 'coast', 'coast', 'coast', 'coast', 'coast', 'coast', 'coast', 'coast', 'coast', 'coast', 'coast', 'coast', 'coast', 'forest', 'forest', 'forest', 'forest', 'forest', 'forest', 'forest', 'forest', 'forest', 'forest', 'forest', 'forest', 'forest', 'forest', 'forest', 'forest', 'forest', 'forest', 'forest', 'forest', 'forest', 'forest', 'forest', 'forest', 'forest', 'forest', 'forest', 'forest', 'forest', 'forest', 'forest', 'forest', 'forest', 'forest', 'forest', 'forest', 'forest', 'forest', 'forest', 'forest', 'forest', 'forest', 'forest', 'forest', 'forest', 'forest', 'forest', 'forest', 'forest', 'forest', 'forest', 'forest', 'forest', 'forest', 'forest', 'forest', 'forest', 'forest', 'forest', 'forest', 'forest', 'forest', 'forest', 'forest', 'forest', 'forest', 'forest', 'forest', 'forest', 'forest', 'forest', 'forest', 'forest', 'forest', 'forest', 'forest', 'forest', 'forest', 'forest', 'forest', 'forest', 'forest', 'forest', 'forest', 'forest', 'forest', 'forest', 'forest', 'forest', 'forest', 'forest', 'forest', 'forest', 'forest', 'forest', 'forest', 'forest', 'forest', 'forest', 'forest', 'forest', 'forest', 'forest', 'forest', 'forest', 'forest', 'forest', 'forest', 'forest', 'forest', 'forest', 'forest', 'forest', 'forest', 'forest', 'forest', 'forest', 'forest', 'forest', 'forest', 'forest', 'forest', 'forest', 'forest', 'forest', 'forest', 'forest', 'forest', 'forest', 'forest', 'forest', 'forest', 'forest', 'forest', 'forest', 'forest', 'forest', 'forest', 'forest', 'forest', 'forest', 'forest', 'forest', 'forest', 'forest', 'forest', 'forest', 'forest', 'forest', 'forest', 'forest', 'forest', 'forest', 'forest', 'forest', 'forest', 'forest', 'forest', 'forest', 'forest', 'forest', 'forest', 'forest', 'forest', 'forest', 'forest', 'forest', 'forest', 'forest', 'forest', 'forest', 'forest', 'forest', 'forest', 'forest', 'forest', 'forest', 'forest', 'forest', 'forest', 'forest', 'forest', 'forest', 'forest', 'forest', 'forest', 'forest', 'forest', 'forest', 'forest', 'forest', 'forest', 'forest', 'forest', 'forest', 'forest', 'forest', 'forest', 'forest', 'forest', 'forest', 'forest', 'forest', 'forest', 'forest', 'forest', 'forest', 'forest', 'forest', 'forest', 'forest', 'forest', 'forest', 'forest', 'forest', 'forest', 'forest', 'forest', 'forest', 'forest', 'forest', 'forest', 'forest', 'forest', 'forest', 'forest', 'forest', 'forest', 'forest', 'forest', 'forest', 'forest', 'forest', 'forest', 'forest', 'forest', 'forest', 'forest', 'forest', 'forest', 'forest', 'forest', 'forest', 'forest', 'forest', 'forest', 'forest', 'forest', 'forest', 'forest', 'forest', 'forest', 'forest', 'forest', 'forest', 'forest', 'forest', 'forest', 'forest', 'forest', 'forest', 'forest', 'forest', 'forest', 'forest', 'forest', 'forest', 'forest', 'forest', 'forest', 'forest', 'forest', 'forest', 'forest', 'forest', 'forest', 'forest', 'forest', 'forest', 'forest', 'forest', 'forest', 'forest', 'forest', 'forest', 'forest', 'forest', 'forest', 'forest', 'forest', 'forest', 'forest', 'forest', 'forest', 'forest', 'forest', 'forest', 'forest', 'forest', 'forest', 'forest', 'forest', 'forest', 'forest', 'forest', 'forest', 'forest', 'forest', 'forest', 'forest', 'forest', 'forest', 'forest', 'forest', 'forest', 'forest', 'forest', 'forest', 'forest', 'forest', 'forest', 'forest', 'forest', 'forest', 'forest', 'forest', 'forest', 'forest', 'highway', 'highway', 'highway', 'highway', 'highway', 'highway', 'highway', 'highway', 'highway', 'highway', 'highway', 'highway', 'highway', 'highway', 'highway', 'highway', 'highway', 'highway', 'highway', 'highway', 'highway', 'highway', 'highway', 'highway', 'highway', 'highway', 'highway', 'highway', 'highway', 'highway', 'highway', 'highway', 'highway', 'highway', 'highway', 'highway', 'highway', 'highway', 'highway', 'highway', 'highway', 'highway', 'highway', 'highway', 'highway', 'highway', 'highway', 'highway', 'highway', 'highway', 'highway', 'highway', 'highway', 'highway', 'highway', 'highway', 'highway', 'highway', 'highway', 'highway', 'highway', 'highway', 'highway', 'highway', 'highway', 'highway', 'highway', 'highway', 'highway', 'highway', 'highway', 'highway', 'highway', 'highway', 'highway', 'highway', 'highway', 'highway', 'highway', 'highway', 'highway', 'highway', 'highway', 'highway', 'highway', 'highway', 'highway', 'highway', 'highway', 'highway', 'highway', 'highway', 'highway', 'highway', 'highway', 'highway', 'highway', 'highway', 'highway', 'highway', 'highway', 'highway', 'highway', 'highway', 'highway', 'highway', 'highway', 'highway', 'highway', 'highway', 'highway', 'highway', 'highway', 'highway', 'highway', 'highway', 'highway', 'highway', 'highway', 'highway', 'highway', 'highway', 'highway', 'highway', 'highway', 'highway', 'highway', 'highway', 'highway', 'highway', 'highway', 'highway', 'highway', 'highway', 'highway', 'highway', 'highway', 'highway', 'highway', 'highway', 'highway', 'highway', 'highway', 'highway', 'highway', 'highway', 'highway', 'highway', 'highway', 'highway', 'highway', 'highway', 'highway', 'highway', 'highway', 'highway', 'highway', 'highway', 'highway', 'highway', 'highway', 'highway', 'highway', 'highway', 'highway', 'highway', 'highway', 'highway', 'highway', 'highway', 'highway', 'highway', 'highway', 'highway', 'highway', 'highway', 'highway', 'highway', 'highway', 'highway', 'highway', 'highway', 'highway', 'highway', 'highway', 'highway', 'highway', 'highway', 'highway', 'highway', 'highway', 'highway', 'highway', 'highway', 'highway', 'highway', 'highway', 'highway', 'highway', 'highway', 'highway', 'highway', 'highway', 'highway', 'highway', 'highway', 'highway', 'highway', 'highway', 'highway', 'highway', 'highway', 'highway', 'highway', 'highway', 'highway', 'highway', 'highway', 'highway', 'highway', 'highway', 'highway', 'highway', 'highway', 'highway', 'highway', 'highway', 'highway', 'highway', 'highway', 'highway', 'highway', 'highway', 'highway', 'highway', 'highway', 'highway', 'highway', 'highway', 'highway', 'highway', 'highway', 'highway', 'highway', 'highway', 'highway', 'highway', 'highway', 'highway', 'highway', 'highway', 'highway', 'highway', 'highway', 'highway', 'highway', 'highway', 'highway', 'highway', 'highway']\n"
          ],
          "name": "stdout"
        }
      ]
    },
    {
      "cell_type": "code",
      "metadata": {
        "id": "NoDwK1IjgOld"
      },
      "source": [
        "# encode the labels, converting them from strings to integers\n",
        "lb = LabelBinarizer()\n",
        "labels = lb.fit_transform(labels)"
      ],
      "execution_count": 35,
      "outputs": []
    },
    {
      "cell_type": "code",
      "metadata": {
        "colab": {
          "base_uri": "https://localhost:8080/"
        },
        "id": "s_hJJxxrgRwk",
        "outputId": "c38717a9-1142-4df5-9e2f-e0459225a05b"
      },
      "source": [
        "print(labels)"
      ],
      "execution_count": 36,
      "outputs": [
        {
          "output_type": "stream",
          "text": [
            "[[1 0 0]\n",
            " [1 0 0]\n",
            " [1 0 0]\n",
            " ...\n",
            " [0 0 1]\n",
            " [0 0 1]\n",
            " [0 0 1]]\n"
          ],
          "name": "stdout"
        }
      ]
    },
    {
      "cell_type": "code",
      "metadata": {
        "colab": {
          "base_uri": "https://localhost:8080/"
        },
        "id": "0O49pUGWgTzE",
        "outputId": "7c381c79-4883-4a6d-9d0d-83548e6c4323"
      },
      "source": [
        "# perform a training and testing split, using 75% of the data for\n",
        "# training and 25% for evaluation\n",
        "(trainX, testX, trainY, testY) = train_test_split(np.array(data),\tnp.array(labels), test_size=0.25)\n",
        "print(trainX.shape)\n",
        "print(testX.shape)"
      ],
      "execution_count": 37,
      "outputs": [
        {
          "output_type": "stream",
          "text": [
            "(711, 32, 32, 3)\n",
            "(237, 32, 32, 3)\n"
          ],
          "name": "stdout"
        }
      ]
    },
    {
      "cell_type": "code",
      "metadata": {
        "id": "nZH3f8Rmgjr8"
      },
      "source": [
        "from keras.models import Sequential\n",
        "from keras.layers.core import Flatten\n",
        "from keras.layers.core import Dense\n",
        "\n",
        "model = Sequential(\n",
        "    [\n",
        "        Flatten(input_shape=(32*32*3,)),\n",
        "        Dense(70, activation=\"relu\", name=\"layer1\"),\n",
        "        Dense(40, activation=\"relu\", name=\"layer2\"),\n",
        "        Dense(98, activation=\"relu\", name=\"layer3\"),\n",
        "        Dense(20, activation=\"relu\", name=\"layer4\"),\n",
        "        Dense(88, activation=\"relu\", name=\"layer5\"),\n",
        "        Dense(80, activation=\"relu\", name=\"layer6\"),\n",
        "        Dense(3, activation = \"softmax\", name=\"layer7\"),\n",
        "    ]\n",
        ")"
      ],
      "execution_count": 49,
      "outputs": []
    },
    {
      "cell_type": "code",
      "metadata": {
        "colab": {
          "base_uri": "https://localhost:8080/"
        },
        "id": "qCGvT1W4gl7M",
        "outputId": "d482093d-6eb7-4912-f1eb-092b4fe5b465"
      },
      "source": [
        "model.summary()"
      ],
      "execution_count": 50,
      "outputs": [
        {
          "output_type": "stream",
          "text": [
            "Model: \"sequential_3\"\n",
            "_________________________________________________________________\n",
            "Layer (type)                 Output Shape              Param #   \n",
            "=================================================================\n",
            "flatten_3 (Flatten)          (None, 3072)              0         \n",
            "_________________________________________________________________\n",
            "layer1 (Dense)               (None, 70)                215110    \n",
            "_________________________________________________________________\n",
            "layer2 (Dense)               (None, 40)                2840      \n",
            "_________________________________________________________________\n",
            "layer3 (Dense)               (None, 98)                4018      \n",
            "_________________________________________________________________\n",
            "layer4 (Dense)               (None, 20)                1980      \n",
            "_________________________________________________________________\n",
            "layer5 (Dense)               (None, 88)                1848      \n",
            "_________________________________________________________________\n",
            "layer6 (Dense)               (None, 80)                7120      \n",
            "_________________________________________________________________\n",
            "layer7 (Dense)               (None, 3)                 243       \n",
            "=================================================================\n",
            "Total params: 233,159\n",
            "Trainable params: 233,159\n",
            "Non-trainable params: 0\n",
            "_________________________________________________________________\n"
          ],
          "name": "stdout"
        }
      ]
    },
    {
      "cell_type": "code",
      "metadata": {
        "colab": {
          "base_uri": "https://localhost:8080/"
        },
        "id": "CPvYPpeKgoL8",
        "outputId": "675afe24-f801-489a-f422-92faff3016bd"
      },
      "source": [
        "# train the model using the Adam optimizer\n",
        "print(\"[INFO] training network...\")\n",
        "opt = Adam(lr=1e-3, decay=1e-3 / 50)\n",
        "model.compile(loss=\"categorical_crossentropy\", optimizer=opt,\n",
        "\tmetrics=[\"accuracy\"])\n",
        "H = model.fit(trainX, trainY, validation_data=(testX, testY), epochs=35, batch_size=45,)"
      ],
      "execution_count": 51,
      "outputs": [
        {
          "output_type": "stream",
          "text": [
            "[INFO] training network...\n",
            "Epoch 1/35\n",
            "WARNING:tensorflow:Model was constructed with shape (None, 3072) for input Tensor(\"flatten_3_input:0\", shape=(None, 3072), dtype=float32), but it was called on an input with incompatible shape (None, 32, 32, 3).\n",
            "WARNING:tensorflow:Model was constructed with shape (None, 3072) for input Tensor(\"flatten_3_input:0\", shape=(None, 3072), dtype=float32), but it was called on an input with incompatible shape (None, 32, 32, 3).\n",
            "15/16 [===========================>..] - ETA: 0s - loss: 1.0556 - accuracy: 0.4356WARNING:tensorflow:Model was constructed with shape (None, 3072) for input Tensor(\"flatten_3_input:0\", shape=(None, 3072), dtype=float32), but it was called on an input with incompatible shape (None, 32, 32, 3).\n",
            "16/16 [==============================] - 0s 14ms/step - loss: 1.0531 - accuracy: 0.4459 - val_loss: 0.9081 - val_accuracy: 0.5654\n",
            "Epoch 2/35\n",
            "16/16 [==============================] - 0s 5ms/step - loss: 0.9037 - accuracy: 0.5696 - val_loss: 0.8475 - val_accuracy: 0.7004\n",
            "Epoch 3/35\n",
            "16/16 [==============================] - 0s 5ms/step - loss: 0.8279 - accuracy: 0.6259 - val_loss: 0.7227 - val_accuracy: 0.6709\n",
            "Epoch 4/35\n",
            "16/16 [==============================] - 0s 5ms/step - loss: 0.7314 - accuracy: 0.6906 - val_loss: 0.6042 - val_accuracy: 0.7553\n",
            "Epoch 5/35\n",
            "16/16 [==============================] - 0s 5ms/step - loss: 0.6851 - accuracy: 0.6934 - val_loss: 0.6224 - val_accuracy: 0.7468\n",
            "Epoch 6/35\n",
            "16/16 [==============================] - 0s 5ms/step - loss: 0.7252 - accuracy: 0.7089 - val_loss: 0.5728 - val_accuracy: 0.8017\n",
            "Epoch 7/35\n",
            "16/16 [==============================] - 0s 5ms/step - loss: 0.5815 - accuracy: 0.7820 - val_loss: 0.4970 - val_accuracy: 0.8017\n",
            "Epoch 8/35\n",
            "16/16 [==============================] - 0s 5ms/step - loss: 0.5083 - accuracy: 0.8172 - val_loss: 0.6045 - val_accuracy: 0.7637\n",
            "Epoch 9/35\n",
            "16/16 [==============================] - 0s 5ms/step - loss: 0.5970 - accuracy: 0.7679 - val_loss: 0.5596 - val_accuracy: 0.7806\n",
            "Epoch 10/35\n",
            "16/16 [==============================] - 0s 5ms/step - loss: 0.4936 - accuracy: 0.8143 - val_loss: 0.6980 - val_accuracy: 0.6920\n",
            "Epoch 11/35\n",
            "16/16 [==============================] - 0s 5ms/step - loss: 0.5443 - accuracy: 0.7876 - val_loss: 0.5074 - val_accuracy: 0.7975\n",
            "Epoch 12/35\n",
            "16/16 [==============================] - 0s 5ms/step - loss: 0.4401 - accuracy: 0.8425 - val_loss: 0.4986 - val_accuracy: 0.7890\n",
            "Epoch 13/35\n",
            "16/16 [==============================] - 0s 5ms/step - loss: 0.4567 - accuracy: 0.8228 - val_loss: 0.4686 - val_accuracy: 0.8354\n",
            "Epoch 14/35\n",
            "16/16 [==============================] - 0s 5ms/step - loss: 0.4578 - accuracy: 0.8256 - val_loss: 0.5737 - val_accuracy: 0.7468\n",
            "Epoch 15/35\n",
            "16/16 [==============================] - 0s 6ms/step - loss: 0.4229 - accuracy: 0.8509 - val_loss: 0.5010 - val_accuracy: 0.8101\n",
            "Epoch 16/35\n",
            "16/16 [==============================] - 0s 5ms/step - loss: 0.3904 - accuracy: 0.8565 - val_loss: 0.4444 - val_accuracy: 0.8439\n",
            "Epoch 17/35\n",
            "16/16 [==============================] - 0s 5ms/step - loss: 0.3517 - accuracy: 0.8762 - val_loss: 0.4505 - val_accuracy: 0.8439\n",
            "Epoch 18/35\n",
            "16/16 [==============================] - 0s 5ms/step - loss: 0.3849 - accuracy: 0.8565 - val_loss: 0.5495 - val_accuracy: 0.7848\n",
            "Epoch 19/35\n",
            "16/16 [==============================] - 0s 5ms/step - loss: 0.4115 - accuracy: 0.8411 - val_loss: 0.5019 - val_accuracy: 0.8059\n",
            "Epoch 20/35\n",
            "16/16 [==============================] - 0s 5ms/step - loss: 0.3514 - accuracy: 0.8706 - val_loss: 0.5118 - val_accuracy: 0.8059\n",
            "Epoch 21/35\n",
            "16/16 [==============================] - 0s 6ms/step - loss: 0.3709 - accuracy: 0.8579 - val_loss: 0.5771 - val_accuracy: 0.7722\n",
            "Epoch 22/35\n",
            "16/16 [==============================] - 0s 6ms/step - loss: 0.3982 - accuracy: 0.8453 - val_loss: 0.4821 - val_accuracy: 0.8312\n",
            "Epoch 23/35\n",
            "16/16 [==============================] - 0s 5ms/step - loss: 0.3268 - accuracy: 0.8819 - val_loss: 0.5463 - val_accuracy: 0.8143\n",
            "Epoch 24/35\n",
            "16/16 [==============================] - 0s 5ms/step - loss: 0.3157 - accuracy: 0.8805 - val_loss: 0.4952 - val_accuracy: 0.8312\n",
            "Epoch 25/35\n",
            "16/16 [==============================] - 0s 5ms/step - loss: 0.2866 - accuracy: 0.8987 - val_loss: 0.4794 - val_accuracy: 0.8186\n",
            "Epoch 26/35\n",
            "16/16 [==============================] - 0s 6ms/step - loss: 0.3765 - accuracy: 0.8509 - val_loss: 0.5577 - val_accuracy: 0.7848\n",
            "Epoch 27/35\n",
            "16/16 [==============================] - 0s 5ms/step - loss: 0.3856 - accuracy: 0.8594 - val_loss: 0.4542 - val_accuracy: 0.8354\n",
            "Epoch 28/35\n",
            "16/16 [==============================] - 0s 5ms/step - loss: 0.3225 - accuracy: 0.8931 - val_loss: 0.5174 - val_accuracy: 0.7975\n",
            "Epoch 29/35\n",
            "16/16 [==============================] - 0s 5ms/step - loss: 0.3557 - accuracy: 0.8636 - val_loss: 0.5274 - val_accuracy: 0.8186\n",
            "Epoch 30/35\n",
            "16/16 [==============================] - 0s 6ms/step - loss: 0.3291 - accuracy: 0.8748 - val_loss: 0.5158 - val_accuracy: 0.8270\n",
            "Epoch 31/35\n",
            "16/16 [==============================] - 0s 5ms/step - loss: 0.2719 - accuracy: 0.9030 - val_loss: 0.6102 - val_accuracy: 0.7890\n",
            "Epoch 32/35\n",
            "16/16 [==============================] - 0s 5ms/step - loss: 0.2726 - accuracy: 0.9114 - val_loss: 0.4609 - val_accuracy: 0.8523\n",
            "Epoch 33/35\n",
            "16/16 [==============================] - 0s 5ms/step - loss: 0.2095 - accuracy: 0.9311 - val_loss: 0.5093 - val_accuracy: 0.8523\n",
            "Epoch 34/35\n",
            "16/16 [==============================] - 0s 6ms/step - loss: 0.2015 - accuracy: 0.9395 - val_loss: 0.5214 - val_accuracy: 0.8312\n",
            "Epoch 35/35\n",
            "16/16 [==============================] - 0s 5ms/step - loss: 0.3098 - accuracy: 0.8776 - val_loss: 0.5996 - val_accuracy: 0.7679\n"
          ],
          "name": "stdout"
        }
      ]
    },
    {
      "cell_type": "code",
      "metadata": {
        "colab": {
          "base_uri": "https://localhost:8080/",
          "height": 590
        },
        "id": "KWvmockwgqts",
        "outputId": "6d77e9fc-1696-474d-c758-e4aebff329ba"
      },
      "source": [
        "import matplotlib.pyplot as plt\n",
        "\n",
        "print(H.history.keys())\n",
        "# summarize history for accuracy\n",
        "plt.plot(H.history['accuracy'])\n",
        "plt.plot(H.history['val_accuracy'])\n",
        "plt.title('model accuracy')\n",
        "plt.ylabel('accuracy')\n",
        "plt.xlabel('epoch')\n",
        "plt.legend(['train', 'test'], loc='upper left')\n",
        "plt.show()\n",
        "# summarize history for loss\n",
        "plt.plot(H.history['loss'])\n",
        "plt.plot(H.history['val_loss'])\n",
        "plt.title('model loss')\n",
        "plt.ylabel('loss')\n",
        "plt.xlabel('epoch')\n",
        "plt.legend(['train', 'test'], loc='upper left')\n",
        "plt.show()"
      ],
      "execution_count": 52,
      "outputs": [
        {
          "output_type": "stream",
          "text": [
            "dict_keys(['loss', 'accuracy', 'val_loss', 'val_accuracy'])\n"
          ],
          "name": "stdout"
        },
        {
          "output_type": "display_data",
          "data": {
            "image/png": "[encoded data removed]",
            "text/plain": [
              "<Figure size 432x288 with 1 Axes>"
            ]
          },
          "metadata": {
            "tags": [],
            "needs_background": "light"
          }
        },
        {
          "output_type": "display_data",
          "data": {
            "image/png": "[encoded data removed]",
            "text/plain": [
              "<Figure size 432x288 with 1 Axes>"
            ]
          },
          "metadata": {
            "tags": [],
            "needs_background": "light"
          }
        }
      ]
    },
    {
      "cell_type": "code",
      "metadata": {
        "colab": {
          "base_uri": "https://localhost:8080/"
        },
        "id": "B06VAawXgt-E",
        "outputId": "e72ff32c-7e87-48bf-a6b4-65aae1cff7a1"
      },
      "source": [
        "# evaluate the network\n",
        "print(\"[INFO] evaluating network...\")\n",
        "predictions = model.predict(testX, batch_size=64)\n",
        "print(classification_report(testY.argmax(axis=1),\n",
        "\tpredictions.argmax(axis=1), target_names=lb.classes_))"
      ],
      "execution_count": 53,
      "outputs": [
        {
          "output_type": "stream",
          "text": [
            "[INFO] evaluating network...\n",
            "WARNING:tensorflow:Model was constructed with shape (None, 3072) for input Tensor(\"flatten_3_input:0\", shape=(None, 3072), dtype=float32), but it was called on an input with incompatible shape (None, 32, 32, 3).\n",
            "              precision    recall  f1-score   support\n",
            "\n",
            "       coast       0.77      0.71      0.74        97\n",
            "      forest       0.92      0.82      0.87        74\n",
            "     highway       0.64      0.79      0.71        66\n",
            "\n",
            "    accuracy                           0.77       237\n",
            "   macro avg       0.78      0.77      0.77       237\n",
            "weighted avg       0.78      0.77      0.77       237\n",
            "\n"
          ],
          "name": "stdout"
        }
      ]
    },
    {
      "cell_type": "code",
      "metadata": {
        "id": "YfObnPPIgxXc"
      },
      "source": [
        ""
      ],
      "execution_count": null,
      "outputs": []
    }
  ]
}