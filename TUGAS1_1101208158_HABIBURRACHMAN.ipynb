{
 "cells": [
  {
   "cell_type": "code",
   "execution_count": null,
   "id": "be5039df",
   "metadata": {},
   "outputs": [
    {
     "name": "stdout",
     "output_type": "stream",
     "text": [
      "masukkan nama anda :habib\n",
      "masukkan nim anda :dhjhad\n",
      "daftar bangun datar\n",
      "1.segitiga\n",
      "2.lingkaran\n"
     ]
    }
   ],
   "source": [
    "pilihan = (input(\"masukkan nama anda :\"))\n",
    "pilihan = (input(\"masukkan nim anda :\"))\n",
    "pilih = 1\n",
    "while pilih !=0:\n",
    "    print(\"daftar bangun datar\")\n",
    "    print(\"1.segitiga\")\n",
    "    print(\"2.lingkaran\")\n",
    "    \n",
    "    pilihan = int(input(\"masukkan pilihan anda :\"))\n",
    "    \n",
    "    if pilihan == 1 :\n",
    "        alas = int(input(\"masukkan tinggi : \"))\n",
    "        tinggi = int(input(\"masukkan tinggi :\"))\n",
    "        a = int(input(\"masukkan sisi 1 : \"))\n",
    "        b = int(input(\"masukkan sisi 2 : \"))\n",
    "        c = int(input(\"masukkan sisi 3 : \"))\n",
    "        \n",
    "        luas = 0.5 * alas * tinggi\n",
    "        keliling = a + b + c\n",
    "        \n",
    "        print(\"\\nluas segitiga : %0.2f\" %luas)\n",
    "        print(\"keliling segitiga =\",keliling)\n",
    "        print('')\n",
    "        print('')\n",
    "        \n",
    "    elif pilihan == 2 :\n",
    "            r = int(input(\"masukkan jari-jari : \"))\n",
    "            \n",
    "            phi = 3.14\n",
    "            luas = phi*(r*r)\n",
    "            keliling = 2*phi*r\n",
    "            \n",
    "            print(\"luas lingkaran\\t\\t :\",luas)\n",
    "            print(\"keliling lingkaran\\t :\",keliling)\n",
    "            print('')\n",
    "            print('')"
   ]
  },
  {
   "cell_type": "code",
   "execution_count": null,
   "id": "37dffa9e",
   "metadata": {},
   "outputs": [],
   "source": []
  }
 ],
 "metadata": {
  "kernelspec": {
   "display_name": "Python 3",
   "language": "python",
   "name": "python3"
  }
 },
 "nbformat": 4,
 "nbformat_minor": 5
}
